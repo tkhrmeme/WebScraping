{
 "cells": [
  {
   "cell_type": "markdown",
   "metadata": {},
   "source": [
    "# 試合日程のスクレイピング"
   ]
  },
  {
   "cell_type": "markdown",
   "metadata": {},
   "source": [
    "## 日程・結果のページからデータを抽出する。"
   ]
  },
  {
   "cell_type": "markdown",
   "metadata": {},
   "source": [
    "<ul><li>HTMLからテーブルを見つける<li>行，セルを順番に処理<li>JSONやiCal形式のファイルに出力</ul>"
   ]
  },
  {
   "cell_type": "markdown",
   "metadata": {},
   "source": [
    "## なでしこリーグの日程・結果のページ"
   ]
  },
  {
   "cell_type": "code",
   "execution_count": 259,
   "metadata": {
    "collapsed": false
   },
   "outputs": [
    {
     "name": "stdout",
     "output_type": "stream",
     "text": [
      "['nadeshiko1/match/index.php', 'nadeshiko1/match/index2.php', 'nadeshiko2/match/index.php', 'nadeshiko2/match/index2.php', 'nadeshiko2/match/index3.php', 'east/match/index.php', 'east/match/index2.php', 'west/match/index.php', 'west/match/index2.php']\n"
     ]
    }
   ],
   "source": [
    "urlBase = 'http://www.nadeshikoleague.jp/2015/'\n",
    "urlList = [\n",
    "    'nadeshiko1/match/index.php','nadeshiko1/match/index2.php'\n",
    "    ,'nadeshiko2/match/index.php','nadeshiko2/match/index2.php','nadeshiko2/match/index3.php'\n",
    "    ,'east/match/index.php','east/match/index2.php'\n",
    "    ,'west/match/index.php','west/match/index2.php'\n",
    "]\n",
    "print(urlList)"
   ]
  },
  {
   "cell_type": "code",
   "execution_count": 313,
   "metadata": {
    "collapsed": false
   },
   "outputs": [
    {
     "name": "stdout",
     "output_type": "stream",
     "text": [
      "http://www.nadeshikoleague.jp/2015/nadeshiko1/match/index.php\n",
      "http://www.nadeshikoleague.jp/2015/nadeshiko1/match/index2.php\n",
      "http://www.nadeshikoleague.jp/2015/nadeshiko2/match/index.php\n",
      "http://www.nadeshikoleague.jp/2015/nadeshiko2/match/index2.php\n",
      "http://www.nadeshikoleague.jp/2015/nadeshiko2/match/index3.php\n",
      "http://www.nadeshikoleague.jp/2015/east/match/index.php\n",
      "http://www.nadeshikoleague.jp/2015/east/match/index2.php\n",
      "http://www.nadeshikoleague.jp/2015/west/match/index.php\n",
      "http://www.nadeshikoleague.jp/2015/west/match/index2.php\n",
      "315\n"
     ]
    }
   ],
   "source": [
    "import urllib2\n",
    "from bs4 import BeautifulSoup\n",
    "import json\n",
    "\n",
    "from datetime import datetime\n",
    "from datetime import timedelta\n",
    "import uuid\n",
    "\n",
    "# 省略名を変換する\n",
    "teamNames = {\n",
    "    'NORD':'ノルディーア',\n",
    "    '大和S':'シルフィード',\n",
    "    '日テレ':'ベレーザ',\n",
    "    '浦和':'浦和レッズ',\n",
    "    'I神戸':'レオネッサ',\n",
    "    '新潟L':'アルビレックス',\n",
    "    'AS埼玉':'エルフェン',\n",
    "    'ノジマ':'ノジマステラ',\n",
    "    'Ａハリマ':'ハリマアルビオン',\n",
    "    'アンジュ':'アンジュビオレ',\n",
    "    '福岡AN':'アンクラス',\n",
    "    'S世田谷':'スフィーダ'\n",
    "}\n",
    "\n",
    "def covertString(navStr):\n",
    "    # NavigableStringを変換する\n",
    "    return unicode(navStr).encode('utf-8')\n",
    "\n",
    "def outputToJson(fn, data):\n",
    "    fp = open(fn,'w')\n",
    "    json.dump(data, fp, indent=1, ensure_ascii=False)\n",
    "    fp.close()\n",
    "\n",
    "def writeEventField(fp, key, val):\n",
    "    fp.write('{0}:{1}\\n'.format(key, val))\n",
    "\n",
    "def convertTeamName(name):\n",
    "    if name in teamNames:\n",
    "        return teamNames[name]\n",
    "    return name\n",
    "    \n",
    "def outputEvent(fp, data):\n",
    "    writeEventField(fp, 'BEGIN','VEVENT')\n",
    "    writeEventField(fp, 'UID:',uuid.uuid1().hex)\n",
    "    \n",
    "    dt = datetime.now()\n",
    "    dtstr = dt.strftime(\"%Y%m%dT%H%M%SZ\")\n",
    "    writeEventField(fp, 'CREATED', dtstr)\n",
    "    writeEventField(fp, 'DTSTAMP', dtstr)\n",
    "    \n",
    "    writeEventField(fp, 'SEQUENCE','10')\n",
    "    writeEventField(fp, 'TRANSP','OPAQUE')\n",
    "    \n",
    "    if 'date' in data:\n",
    "        s = data['date']\n",
    "        dt = datetime.strptime(s[:5]+s[-6:],'%m/%d %H:%M')\n",
    "        dt = dt.replace(year = 2015)\n",
    "        \n",
    "    dts = dt.strftime('%Y%m%dT%H%M%S')\n",
    "    writeEventField(fp, 'DTSTART;TZID=Asia/Tokyo', dts)\n",
    "    \n",
    "    dt = dt + timedelta(0,60*110)\n",
    "    dte = dt.strftime('%Y%m%dT%H%M%S')\n",
    "    writeEventField(fp, 'DTEND;TZID=Asia/Tokyo', dte)\n",
    "    \n",
    "    summary = \"{0} {1} {2} {3}\".format(data['gameNo'], convertTeamName(data['left']), data['result'], convertTeamName(data['right']))\n",
    "    writeEventField(fp, 'SUMMARY', summary)\n",
    "    writeEventField(fp, 'LOCATION', data.get('location','---'))\n",
    "    # writeEventField(fp, 'DESCRIPTION', data.get('date','---'))\n",
    "    \n",
    "    if 'url' in data:\n",
    "        writeEventField(fp, 'URL;VALUE=URI', data['url'])\n",
    "    writeEventField(fp, 'END','VEVENT')\n",
    "\n",
    "def outputICalHeader(fp):\n",
    "    fp.write('BEGIN:VCALENDAR\\n')\n",
    "    fp.write('VERSION:2.0\\n')\n",
    "    fp.write('METHOD:PUBLISH\\n')\n",
    "    fp.write('PRODID:-PYTHON_SCRAPER\\n')\n",
    "    fp.write(\"X-WR-CALNAME:Nadeshiko\\n\")\n",
    "    fp.write('X-WR-TIMEZONE:Asia/Tokyo\\n')\n",
    "    fp.write('CALSCALE:GREGORIAN\\n')\n",
    "    \n",
    "    vtimezone = '''BEGIN:VTIMEZONE\n",
    "TZID:Asia/Tokyo   \n",
    "BEGIN:DAYLIGHT\n",
    "TZOFFSETFROM:+0900\n",
    "DTSTART:19500507T020000\n",
    "TZNAME:JDT\n",
    "TZOFFSETTO:+1000\n",
    "END:DAYLIGHT        \n",
    "BEGIN:STANDARD\n",
    "TZOFFSETFROM:+1000\n",
    "DTSTART:19510908T020000\n",
    "TZNAME:JST\n",
    "TZOFFSETTO:+0900\n",
    "END:STANDARD\n",
    "END:VTIMEZONE\n",
    "'''\n",
    "    fp.write(vtimezone)\n",
    "\n",
    "def outputToICalendar(dataList):\n",
    "    fp = open('schedule_nadeshiko.ics','w')\n",
    "\n",
    "    outputICalHeader(fp)\n",
    "    \n",
    "    for game in dataList:\n",
    "        outputEvent(fp, game)\n",
    "        \n",
    "    fp.write('END:VCALENDAR')\n",
    "    fp.close()\n",
    "    \n",
    "def scrapeFromUrl(url):\n",
    "    html = urllib2.urlopen(url).read()\n",
    "    soup = BeautifulSoup(html)\n",
    "\n",
    "    dataList = []\n",
    "    game = {}\n",
    "    \n",
    "    div = soup.find(id='gameSchedule')\n",
    "    for e in div.children:\n",
    "        if isinstance(e, Tag):\n",
    "            if e.name == 'h3':\n",
    "                # 第N節\n",
    "                gameNo = covertString(e.string)\n",
    "                game['gameNo'] = gameNo\n",
    "            elif e.name == 'table':\n",
    "                for tr in e.find_all('tr', recursive=False):\n",
    "                    for td in tr.find_all('td'):\n",
    "                        classList = td.get('class')\n",
    "                        if classList is None:\n",
    "                            # 会場\n",
    "                            game['location'] = covertString(td.string)\n",
    "                        elif classList[0] == 'result':\n",
    "                            # スコア\n",
    "                            game['result'] = covertString(td.string)\n",
    "                        elif classList[0] == 'date':\n",
    "                            # 日付\n",
    "                            game['date'] = covertString(td.string)\n",
    "                        elif classList[0] == 'record':\n",
    "                            # 公式記録\n",
    "                            record = td.find('a')\n",
    "                            if record is not None:\n",
    "                                s = record.get('onclick')\n",
    "                                l = s.split(\"'\")\n",
    "                                game['url'] = l[1]\n",
    "                        elif classList[0] == 'teamName':\n",
    "                            # チーム名 'left', 'right'\n",
    "                            game[classList[1]] = covertString(td.string)\n",
    "                    dataList.append(game)\n",
    "\n",
    "                    game = {}\n",
    "                    game['gameNo'] = gameNo\n",
    "    return dataList\n",
    "\n",
    "if __name__ == '__main__':\n",
    "    dataList = []\n",
    "    for u in urlList:\n",
    "        print(urlBase +u)\n",
    "        dataList.extend(scrapeFromUrl(urlBase+u))\n",
    "\n",
    "    outputToICalendar(dataList) # iCalendarに出力\n",
    "    #outputToJson('schedule_challenge_east2.json', dataList) # JSONで出力\n",
    "\n",
    "    print(len(dataList))"
   ]
  },
  {
   "cell_type": "markdown",
   "metadata": {},
   "source": [
    "### Jリーグの試合"
   ]
  },
  {
   "cell_type": "code",
   "execution_count": 243,
   "metadata": {
    "collapsed": false
   },
   "outputs": [
    {
     "name": "stdout",
     "output_type": "stream",
     "text": [
      "/Users/takahiro/Desktop/J2Result/2014/Sapporo.csv\n"
     ]
    }
   ],
   "source": [
    "import urllib2\n",
    "import BeautifulSoup\n",
    "import sys\n",
    "\n",
    "idList = {\n",
    "14:\"Sapporo\", 2:\"Chiba\", 23:\"Fukuoka\", 29:\"Yamagata\",94:\"Mito\", 40:\"Tochigi\",\n",
    "35:\"Gunma\", 4:\"Verdy\", 34:\"YokohamaFC\", 46:\"Matsumoto\", 41:\"Toyama\", 39:\"Gifu\",\n",
    "24:\"Kyoto\", 9:\"Gamba\", 18:\"Kobe\",44:\"Tottori\", 42:\"Okayama\",36:\"Tokushima\",\n",
    "37:\"Ehime\", 43:\"Kitakyusyu\", 47:\"Nagasaki\", 38:\"Kumamoto\"\n",
    "}\n",
    "\n",
    "yearParams = [(2014, 373)] #(2013, 348), \n",
    "\n",
    "url = 'https://data.j-league.or.jp/SFMS01/search?competition_frame_ids=2&competition_ids=348&home_away_select=0&tv_relay_station_name='\n",
    "\n",
    "def getGameResult(fp, url):\n",
    "    html = urllib2.urlopen(url).read()\n",
    "    soup = BeautifulSoup.BeautifulSoup(html)\n",
    "\n",
    "    table = soup.find('table', attrs={'class':'table-base00 search-table'})\n",
    "    if table is None:\n",
    "        return\n",
    "    \n",
    "    rows = table.findAll('tr')\n",
    "    for row in rows:\n",
    "        cells = row.findAll('td')\n",
    "        if len(cells):\n",
    "            for i,cell in enumerate(cells):\n",
    "                #print(cell.contents)\n",
    "                \n",
    "                if i>0:\n",
    "                    fp.write(',')\n",
    "                for c in cell.contents:\n",
    "                    if type(c) == BeautifulSoup.Tag:\n",
    "                        fp.write(c['href']) # a href\n",
    "                        fp.write(','+c.contents[0].replace('-', ',').encode('utf-8')) #チーム名\n",
    "                    elif not c.isspace():\n",
    "                        str = c.strip().replace(',', '')\n",
    "                        if str == 'vs':\n",
    "                            fp.write(',,')\n",
    "                        elif str != \"&nbsp;\":\n",
    "                            fp.write(str.encode('utf-8'))\n",
    "            fp.write('\\n')\n",
    "\n",
    "if __name__ == '__main__':\n",
    "    yp = (2014, 373)\n",
    "    num = 14\n",
    "    \n",
    "    filepath ='/Users/takahiro/Desktop/J2Result/{0}/'.format(yp[0]) +idList[num]+'.csv'\n",
    "    print(filepath)\n",
    "\n",
    "    params = '&team_ids={team}&competition_years={year}&competition_ids={compe}'.format(team=num, year=yp[0], compe=yp[1])\n",
    "    #getGameResult(sys.stdout, url+params)"
   ]
  },
  {
   "cell_type": "code",
   "execution_count": 59,
   "metadata": {
    "collapsed": false
   },
   "outputs": [
    {
     "name": "stdout",
     "output_type": "stream",
     "text": [
      "True\n"
     ]
    }
   ],
   "source": [
    "url = 'https://data.j-league.or.jp/SFMS01/search?competition_years=2014&competition_frame_ids=1&competition_ids=372&team_ids=14&home_away_select=0&tv_relay_station_name='\n",
    "html = urllib2.urlopen(url).read()\n",
    "soup = BeautifulSoup.BeautifulSoup(html)\n",
    "table = soup.find('table', attrs={'class':'table-base00 search-table'})\n",
    "print(table is None)"
   ]
  }
 ],
 "metadata": {
  "kernelspec": {
   "display_name": "Python 2",
   "language": "python",
   "name": "python2"
  },
  "language_info": {
   "codemirror_mode": {
    "name": "ipython",
    "version": 2
   },
   "file_extension": ".py",
   "mimetype": "text/x-python",
   "name": "python",
   "nbconvert_exporter": "python",
   "pygments_lexer": "ipython2",
   "version": "2.7.7"
  }
 },
 "nbformat": 4,
 "nbformat_minor": 0
}
